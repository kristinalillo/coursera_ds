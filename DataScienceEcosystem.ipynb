{
 "cells": [
  {
   "cell_type": "markdown",
   "id": "a8f17730-e928-4338-b58c-53486f86fd32",
   "metadata": {},
   "source": [
    "# Data Science Tools and Ecosystem"
   ]
  },
  {
   "cell_type": "markdown",
   "id": "87ff7f69-651c-4569-b8d9-638031e5eb60",
   "metadata": {},
   "source": [
    "In this notebook, Data Science Tools and Ecosystem are summarized.\n"
   ]
  },
  {
   "cell_type": "markdown",
   "id": "8fe12aef-d2ee-4e46-8bfb-ad555367d5b8",
   "metadata": {},
   "source": [
    "Some of the popular languages that Data Scientists use are:\n",
    "1. Python\n",
    "2. R\n",
    "3. SQL"
   ]
  },
  {
   "cell_type": "markdown",
   "id": "b56c057b-4800-4ab2-8bbf-3dd577e3a56f",
   "metadata": {},
   "source": [
    "Some of the commonly used libraries used by Data Scientists include:\n",
    "1. NumPy\n",
    "2. pandas\n",
    "3. Matplotlib\n"
   ]
  },
  {
   "cell_type": "markdown",
   "id": "f5e80f14-939a-4647-8987-f8e994d556d0",
   "metadata": {},
   "source": [
    "**Objectives:**\n",
    "\n",
    "- List popular languages for Data Science.\n",
    "- Understand the role of Jupyter Notebook in interactive computing.\n",
    "- Explore basic operations and syntax in Python.\n",
    "- Introduce common libraries for data manipulation and visualization.\n",
    "- Demonstrate basic data analysis techniques using Pandas and Matplotlib."
   ]
  },
  {
   "cell_type": "markdown",
   "id": "36ae301a-e269-4ff3-8e2e-9307087ff027",
   "metadata": {},
   "source": [
    "| Data Science Tools    |\n",
    "|-----------------------|\n",
    "| Jupyter Notebook      |\n",
    "| RStudio               |\n",
    "| VS Code with Python   |"
   ]
  },
  {
   "cell_type": "markdown",
   "id": "9c2cd3b8-ed9b-42ca-a0e6-7a92bf8a5e21",
   "metadata": {},
   "source": [
    "### Below are a few examples of evaluating arithmetic expressions in Python\n",
    "\n",
    "- Addition: `2 + 3 = 5`\n",
    "- Subtraction: `5 - 2 = 3`\n",
    "- Multiplication: `3 * 4 = 12`\n",
    "- Division: `10 / 2 = 5`\n",
    "- Exponentiation: `2 ** 3 = 8`\n",
    "\n",
    "These are basic arithmetic operations commonly used in Python."
   ]
  },
  {
   "cell_type": "code",
   "execution_count": 7,
   "id": "27eefd2a-e65a-41fe-a2ac-a50b65a44530",
   "metadata": {},
   "outputs": [
    {
     "data": {
      "text/plain": [
       "17"
      ]
     },
     "execution_count": 7,
     "metadata": {},
     "output_type": "execute_result"
    }
   ],
   "source": [
    "# This a simple arithmetic expression to mutiply then add integers\n",
    "(3*4)+5"
   ]
  },
  {
   "cell_type": "code",
   "execution_count": 9,
   "id": "5b98d3fd-88ae-4ddb-8162-6d35773c9ae7",
   "metadata": {},
   "outputs": [
    {
     "data": {
      "text/plain": [
       "3.3333333333333335"
      ]
     },
     "execution_count": 9,
     "metadata": {},
     "output_type": "execute_result"
    }
   ],
   "source": [
    "# This will convert 200 minutes to hours by dividing by 60\n",
    "minutes = 200\n",
    "hours = minutes / 60\n",
    "hours"
   ]
  },
  {
   "cell_type": "markdown",
   "id": "24e92faa-412b-418a-a320-05c59a161e68",
   "metadata": {},
   "source": [
    "## Author\n",
    "\n",
    "Kristina Lillo"
   ]
  }
 ],
 "metadata": {
  "kernelspec": {
   "display_name": "Python 3 (ipykernel)",
   "language": "python",
   "name": "python3"
  },
  "language_info": {
   "codemirror_mode": {
    "name": "ipython",
    "version": 3
   },
   "file_extension": ".py",
   "mimetype": "text/x-python",
   "name": "python",
   "nbconvert_exporter": "python",
   "pygments_lexer": "ipython3",
   "version": "3.11.7"
  }
 },
 "nbformat": 4,
 "nbformat_minor": 5
}
